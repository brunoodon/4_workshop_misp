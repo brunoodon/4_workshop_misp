{
  "cells": [
    {
      "cell_type": "markdown",
      "metadata": {
        "id": "view-in-github",
        "colab_type": "text"
      },
      "source": [
        "<a href=\"https://colab.research.google.com/github/brunoodon/4_workshop_misp/blob/main/Hunting_automatizado_de_CVE_recentemente_exploradas.ipynb\" target=\"_parent\"><img src=\"https://colab.research.google.com/assets/colab-badge.svg\" alt=\"Open In Colab\"/></a>"
      ]
    },
    {
      "cell_type": "code",
      "execution_count": null,
      "metadata": {
        "id": "Nq_wLWyALY73"
      },
      "outputs": [],
      "source": [
        "#instalando o módulo PyMISP\n",
        "!pip3 install pymisp"
      ]
    },
    {
      "cell_type": "code",
      "execution_count": null,
      "metadata": {
        "id": "wCARpvN2OpZ0"
      },
      "outputs": [],
      "source": [
        "#importando as bibliotecas necessárias\n",
        "import pandas as pd\n",
        "import requests\n",
        "import numpy as np\n",
        "import csv\n",
        "import json\n",
        "import datetime\n",
        "import time\n",
        "import statistics\n",
        "from pandas.io.parsers import python_parser\n",
        "from pymisp import MISPEvent, MISPObject, PyMISP, ExpandedPyMISP, MISPSharingGroup\n",
        "#url dos exploits do CISA\n",
        "url_cisa = 'https://www.cisa.gov/sites/default/files/csv/known_exploited_vulnerabilities.csv'\n",
        "#url do inventário de ativos do cliente\n",
        "url_inventory = 'https://raw.githubusercontent.com/brunoodon/4_workshop_misp/main/assets.csv'\n",
        "#preencha com a URL da sua instância do MISP\n",
        "url_misp = 'MISP_URL'\n",
        "#Preencha com a authkey de um usuário do MISP com privilégios para criar eventos e inserir atributos.\n",
        "misp_key = 'MISP_APIKEY'\n",
        "#Preencha com a url do Elastic\n",
        "url_es = 'ELASTIC_URL:9200/alerts/_doc'"
      ]
    },
    {
      "cell_type": "code",
      "execution_count": null,
      "metadata": {
        "id": "zmB87sS9axmR"
      },
      "outputs": [],
      "source": [
        "#lendo e dando 'print' no dataset do inventário do ativos do cliente\n",
        "inventory = pd.read_csv(url_inventory)\n",
        "display(inventory)"
      ]
    },
    {
      "cell_type": "code",
      "execution_count": null,
      "metadata": {
        "id": "cu-NwSSVeJbK"
      },
      "outputs": [],
      "source": [
        "#lendo e dando 'print' no dataset de vulnerabilidades com exploit recente\n",
        "exploited_cve = pd.read_csv(url_cisa)\n",
        "display(exploited_cve)"
      ]
    },
    {
      "cell_type": "code",
      "execution_count": null,
      "metadata": {
        "colab": {
          "background_save": true
        },
        "id": "XhuObWlZ4gRx"
      },
      "outputs": [],
      "source": [
        "#percorrendo cada linha do dataset de inventário de ativos do cliente\n",
        "for a in range(len(inventory)):\n",
        "  application=inventory.values[a][0]\n",
        "  version = inventory.values[a][1]\n",
        "  ip=inventory.values[a][2]\n",
        "  hostname=inventory.values[a][3]\n",
        "  dep=inventory.values[a][4]\n",
        "  #criando uma variável com a data atual para inserirmos como parte do nome do evento\n",
        "  today=str(datetime.date.today())\n",
        "  #fazendo a busca dos registros do dataset de vulnerabilidades exploradas onde o campo 'Product' contém o nome da aplicação descrita em cada linha de inventário\n",
        "  search = exploited_cve.query('product.str.contains(\"'+application+'\") == True', engine=\"python\")\n",
        "  misp_verifycert = False\n",
        "  #definindo as características do evento do MISP\n",
        "  misp = ExpandedPyMISP(url_misp, misp_key, misp_verifycert)\n",
        "  event = MISPEvent()\n",
        "  event.info = f\"Risco de vulnerabilidades no ativo {hostname} | {application} - {version} - \"+today+\"\"\n",
        "  event.analysis = \"2\"\n",
        "  event.published = True\n",
        "  event.distribution = \"4\" #compartilhar com Sharing group\n",
        "  event.sharing_group_id = \"1\" #ID do Sharing group que receberá o evento\n",
        "  event.threat_level_id = \"1\" #level HIGH\n",
        "  event.add_tag('Exploited_CVE')#uma tag criada para identificar que este evento tem CVE com exploit\n",
        "  event.add_tag('tlp:amber+strict') #só a entidade que enviou e a entidade que recebeu podem ter acesso ao avento\n",
        "  event.add_tag('circl:incident-classification=\"vulnerability\"')#tag que identifica o tipo de ameaça que será compartilhada. Neste caso, uma tag da taxonomia do CIRCL.\n",
        "    #percorrendo cada resultado dessa busca e atribuíndo os valores às variáveis\n",
        "  for b in range(len(search)):\n",
        "      cve=search.values[b][0]\n",
        "      vendor=search.values[b][1]\n",
        "      product=search.values[b][2]\n",
        "      vulnerability_name=search.values[b][3]\n",
        "      date_added=search.values[b][4]\n",
        "      short_desc=search.values[b][5]\n",
        "      due_date=search.values[b][6]\n",
        "      notes=search.values[b][7]\n",
        "      #fazendo a consulta do CVE no banco do NVD, para enriquecer o dataset\n",
        "      url_nvd = 'https://services.nvd.nist.gov/rest/json/cves/2.0?cveId='+cve+''\n",
        "      r_nvd = requests.get(url_nvd)\n",
        "      #foi necessário um temporizador porque a API do NVD tem limitação de requests por minuto\n",
        "      time.sleep(8)\n",
        "      try:\n",
        "        #lendo o json com o resultado e atribuindo cada resultado de campo às varáveis severity_score e vector_string\n",
        "        #obs: foi preciso estabelecer 2 possíveis estruturas, uma para cada versão da métrica de severity score (V2 ou V3.1)\n",
        "        json_nvd = json.loads(r_nvd.text)\n",
        "        for c in json_nvd['vulnerabilities']:\n",
        "          cpe = []\n",
        "          try:\n",
        "            for d in c['cve']['metrics']['cvssMetricV31']:\n",
        "              vector_string = d['cvssData']['vectorString']\n",
        "              #convertendo o campo de severity_score em float\n",
        "              severity_score = float(d['cvssData']['baseScore'])\n",
        "          except:\n",
        "            for d in c['cve']['metrics']['cvssMetricV2']:\n",
        "              vector_string = d['cvssData']['vectorString']\n",
        "              severity_score = float(d['cvssData']['baseScore'])\n",
        "          for b in c['cve']['configurations']:\n",
        "            for x in b['nodes']:\n",
        "              for z in x['cpeMatch']:\n",
        "                #verificando se a versão da aplicação foi encontrada em algum CPE referente à vulnerabilidade\n",
        "                if version in z['criteria']:\n",
        "                  #se for o caso, inserir o CPE na lista\n",
        "                  cpe.append(z['criteria'])\n",
        "          #só adiciona a vulnerabilidade no Elastic e no MISP caso o CPE não seja vazio\n",
        "          if cpe != []:\n",
        "            #adicionando as CVE, com os detalhes no comentário\n",
        "            event.add_attribute('vulnerability', str(cve), disable_correlation=True, to_ids=False, comment=f'Severity Score: {severity_score}|Vector String:{vector_string}|Product: {product}')\n",
        "            print(f'Adicionando a CVE {cve} no evento')\n",
        "            #Definindo o header e o documento JSON que será incluído no Elasticsearch\n",
        "            es_header = {'Content-Type': 'application/json'}\n",
        "            es_json = {\n",
        "            'Vulnerability': cve,\n",
        "            'VulnerabilityName': vulnerability_name,\n",
        "            'Description': short_desc,\n",
        "            'IP': ip,\n",
        "            'CPE': cpe,\n",
        "            'Vendor': vendor,\n",
        "            'Hostname': hostname,\n",
        "            'Application': f'{application}:{version}',\n",
        "            'ExploitationVector': vector_string,\n",
        "            'SeverityScore': float(severity_score),\n",
        "            'AlertDate': today,\n",
        "            'Department': dep\n",
        "            }\n",
        "            #Inserindo o alerta de possível vulnerabilidade em um índex do Elasticsearch\n",
        "            r_es = requests.post(url_es, headers=es_header, verify=False, json=es_json)\n",
        "      except:\n",
        "        print('Nenhuma vulnerabilidade encontrada no ativo')\n",
        "  event = misp.add_event(event)"
      ]
    }
  ],
  "metadata": {
    "colab": {
      "provenance": [],
      "authorship_tag": "ABX9TyO9VDfH/wsG3wWZW5CAEXgL",
      "include_colab_link": true
    },
    "kernelspec": {
      "display_name": "Python 3",
      "name": "python3"
    },
    "language_info": {
      "name": "python"
    }
  },
  "nbformat": 4,
  "nbformat_minor": 0
}